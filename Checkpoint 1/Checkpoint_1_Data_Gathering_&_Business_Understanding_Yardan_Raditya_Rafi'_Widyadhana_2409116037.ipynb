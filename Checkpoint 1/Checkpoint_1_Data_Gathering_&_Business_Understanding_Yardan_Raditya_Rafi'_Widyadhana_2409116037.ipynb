{
  "nbformat": 4,
  "nbformat_minor": 0,
  "metadata": {
    "colab": {
      "provenance": []
    },
    "kernelspec": {
      "name": "python3",
      "display_name": "Python 3"
    },
    "language_info": {
      "name": "python"
    }
  },
  "cells": [
    {
      "cell_type": "markdown",
      "source": [
        "# **BUSINESS UNDERSTANDING**"
      ],
      "metadata": {
        "id": "ejDHXi5bBfPE"
      }
    },
    {
      "cell_type": "markdown",
      "source": [
        "## **Business Objective**"
      ],
      "metadata": {
        "id": "z6vL3cvVDPy1"
      }
    },
    {
      "cell_type": "markdown",
      "source": [
        "Tujuan utama proyek ini adalah untuk menganalisis faktor-faktor yang mempengaruhi performa akademik siswa guna memberikan wawasan yang dapat digunakan untuk meningkatkan hasil belajar. Analisis ini akan membantu sekolah, guru, dan orang tua dalam memahami variabel-variabel yang berkontribusi terhadap pencapaian akademik siswa, sehingga strategi pembelajaran dapat dioptimalkan."
      ],
      "metadata": {
        "id": "dgUNBeb78_y2"
      }
    },
    {
      "cell_type": "markdown",
      "source": [
        "## **Assess Situation**"
      ],
      "metadata": {
        "id": "Cwlb9IoVDciu"
      }
    },
    {
      "cell_type": "markdown",
      "source": [
        "Situasi pendidikan saat ini menunjukkan adanya berbagai faktor yang dapat mempengaruhi performa akademik siswa, seperti latar belakang keluarga, kebiasaan belajar, lingkungan sekolah, dan faktor psikologis. Tantangan utama yang dihadapi adalah bagaimana mengidentifikasi faktor mana yang paling berpengaruh terhadap prestasi akademik siswa dan bagaimana strategi yang tepat untuk meningkatkan performa mereka."
      ],
      "metadata": {
        "id": "FDMtZ1ieA1yO"
      }
    },
    {
      "cell_type": "markdown",
      "source": [
        "## **Data Mining Goals**"
      ],
      "metadata": {
        "id": "y4SMIgR3Dj0K"
      }
    },
    {
      "cell_type": "markdown",
      "source": [
        "Mengidentifikasi faktor-faktor utama yang berkontribusi terhadap performa akademik siswa dengan menganalisis berbagai variabel dalam dataset. Salah satu tujuan utama adalah menentukan korelasi antara variabel seperti gender, latar belakang keluarga, metode belajar, dan keterlibatan ekstrakurikuler terhadap nilai akademik siswa. Dengan memahami hubungan ini, diharapkan dapat ditemukan pola yang menjelaskan bagaimana setiap faktor memengaruhi hasil belajar siswa."
      ],
      "metadata": {
        "id": "IKfhjHA3B35A"
      }
    },
    {
      "cell_type": "markdown",
      "source": [
        "## **Project Plan**"
      ],
      "metadata": {
        "id": "Qpr94ZrtDqA7"
      }
    },
    {
      "cell_type": "markdown",
      "source": [
        "1. Mengumpulkan dataset Students Performance Dataset dari Kaggle yang berisi informasi mengenai nilai akademik siswa serta faktor-faktor lain yang mungkin mempengaruhi performa mereka.\n",
        "\n",
        "2. Mengeksplorasi dataset untuk memahami struktur data, jumlah variabel, tipe data, serta identifikasi data yang hilang atau tidak konsisten.\n",
        "\n",
        "3. Membersihkan data, menangani missing values, dan memeriksa apakah terdapat duplikasi data atau nilai yang tidak wajar.\n",
        "\n",
        "4. Menganalisis faktor apa saja yang berpengaruh terhadap nilai siswa.\n",
        "\n",
        "5. Menyimpulkan hasil analisis dan menentukan faktor-faktor kunci yang mempengaruhi performa akademik siswa.\n",
        "\n",
        "6. Membuat laporan hasil analisis dalam bentuk dokumen atau presentasi untuk dipublikasikan atau disampaikan kepada stakeholder pendidikan."
      ],
      "metadata": {
        "id": "ZbBHgSBkb-qu"
      }
    }
  ]
}